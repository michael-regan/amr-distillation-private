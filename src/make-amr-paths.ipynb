{
 "cells": [
  {
   "cell_type": "code",
   "execution_count": 19,
   "id": "4a03a386",
   "metadata": {},
   "outputs": [],
   "source": [
    "# first download sembleu\n",
    "# git clone https://github.com/freesunshine0316/sembleu.git\n",
    "\n",
    "# import sys\n",
    "# sys.path.insert(0, \"path/to/sembleu\")\n",
    "\n",
    "import sys\n",
    "import sembleu\n",
    "import os, json, time\n",
    "\n",
    "from pathlib import Path\n",
    "\n",
    "from sembleu import src\n",
    "from sembleu.src import bleu_score\n",
    "from sembleu.src.bleu_score import corpus_bleu, sentence_bleu, SmoothingFunction, NgramInst\n",
    "\n",
    "from sembleu.src import amr_graph\n",
    "from sembleu.src.amr_graph import AMRGraph\n",
    "\n",
    "import numpy as np"
   ]
  },
  {
   "cell_type": "code",
   "execution_count": 39,
   "id": "ca9a0fcc",
   "metadata": {},
   "outputs": [],
   "source": [
    "def read_amr(path):\n",
    "    id_dict = {}\n",
    "    amrs, id_list, ids, sents = [],[],[],[]\n",
    "    amr_str = ''\n",
    "\n",
    "    for line in open(path,'r'):\n",
    "                \n",
    "        if line.startswith('#'):\n",
    "            if line.startswith('# ::id'):\n",
    "                id = line.strip().split()[2]\n",
    "                ids.append(id)\n",
    "                id_dict[id] = len(ids)-1\n",
    "                id_list.append(id)\n",
    "            if line.startswith('# ::snt'):\n",
    "                snt = line[2:].strip().replace('::snt ', '')\n",
    "                sents.append(snt)\n",
    "            continue\n",
    "            \n",
    "        line = line.strip()\n",
    "        if line == '':\n",
    "            if amr_str != '':\n",
    "                amrs.append(amr_str.strip())\n",
    "                amr_str = ''\n",
    "        else:\n",
    "            amr_str = amr_str + line + ' '\n",
    "\n",
    "    if amr_str != '':\n",
    "        amrs.append(amr_str.strip())\n",
    "        amr_str = ''\n",
    "        \n",
    "    return (amrs, ids, sents), id_list\n",
    "\n",
    "def get_amr_ngrams(path, stat_save_path=None, raw=False, id_list_tmp=list()):\n",
    "    \n",
    "    data, raw_data, sentences = [],[],[]\n",
    "\n",
    "    if stat_save_path:\n",
    "        f = open(stat_save_path, 'w')\n",
    "\n",
    "    (lines, amrids, sents), id_list = read_amr(path) \n",
    "    \n",
    "    if len(amrids)==0:\n",
    "        amrids = id_list_tmp\n",
    "        \n",
    "    for line, amrid, snt in zip(lines, amrids, sents):\n",
    "        \n",
    "        if line:\n",
    "            raw_data.append(line)\n",
    "            sentences.append(snt)\n",
    "            try:\n",
    "                amr = AMRGraph(line.strip())\n",
    "            except AssertionError:\n",
    "                assert False\n",
    "            amr.revert_of_edges()\n",
    "            ngrams = amr.extract_ngrams(3, multi_roots=True) # dict(list(tuple))\n",
    "            data.append(NgramInst(ngram=ngrams, length=len(amr.edges)))\n",
    "            if stat_save_path:\n",
    "                print(len(amr), len(ngrams[1]), len(ngrams[2]), len(ngrams[3]), file=f)\n",
    "\n",
    "    if stat_save_path:\n",
    "        f.close()\n",
    "    if raw:\n",
    "        return data, raw_data, sentences, id_list\n",
    "    else:\n",
    "        return data, id_list"
   ]
  },
  {
   "cell_type": "code",
   "execution_count": 44,
   "id": "1c3a0c11",
   "metadata": {},
   "outputs": [],
   "source": [
    "amr_path = Path('sample-amr')\n",
    "\n",
    "data, raw_data, sentences, id_list = get_amr_ngrams(amr_path, raw=True)"
   ]
  },
  {
   "cell_type": "code",
   "execution_count": 45,
   "id": "dc294dc7",
   "metadata": {},
   "outputs": [
    {
     "data": {
      "text/plain": [
       "'(t / turn-02 :ARG0 (i2 / it) :ARG1 (l / land :quant (m / multiple :op1 (a / area-quantity :quant 100 :unit (s / square-mile))) :location (s2 / state :wiki \"Bihar\" :name (n / name :op1 \"Bihar\"))) :ARG2 (l2 / lake :mod (g / giant)))'"
      ]
     },
     "execution_count": 45,
     "metadata": {},
     "output_type": "execute_result"
    }
   ],
   "source": [
    "raw_data[0]"
   ]
  },
  {
   "cell_type": "code",
   "execution_count": 46,
   "id": "1a41ff4d",
   "metadata": {},
   "outputs": [
    {
     "data": {
      "text/plain": [
       "NgramInst(ngram={1: [('turn-02',), ('it',), ('land',), ('lake',), ('multiple',), ('state',), ('giant',), ('area-quantity',), ('bihar',), ('name',), ('100',), ('square-mile',), ('bihar',)], 2: [('turn-02', ':ARG0', 'it'), ('turn-02', ':ARG1', 'land'), ('turn-02', ':ARG2', 'lake'), ('land', ':quant', 'multiple'), ('land', ':location', 'state'), ('lake', ':mod', 'giant'), ('multiple', ':op1', 'area-quantity'), ('state', ':wiki', 'bihar'), ('state', ':name', 'name'), ('area-quantity', ':quant', '100'), ('area-quantity', ':unit', 'square-mile'), ('name', ':op1', 'bihar')], 3: [('turn-02', ':ARG1', 'land', ':quant', 'multiple'), ('turn-02', ':ARG1', 'land', ':location', 'state'), ('turn-02', ':ARG2', 'lake', ':mod', 'giant'), ('land', ':quant', 'multiple', ':op1', 'area-quantity'), ('land', ':location', 'state', ':wiki', 'bihar'), ('land', ':location', 'state', ':name', 'name'), ('multiple', ':op1', 'area-quantity', ':quant', '100'), ('multiple', ':op1', 'area-quantity', ':unit', 'square-mile'), ('state', ':name', 'name', ':op1', 'bihar')]}, length=25)"
      ]
     },
     "execution_count": 46,
     "metadata": {},
     "output_type": "execute_result"
    }
   ],
   "source": [
    "data[0]"
   ]
  },
  {
   "cell_type": "code",
   "execution_count": null,
   "id": "9a53434c",
   "metadata": {},
   "outputs": [],
   "source": []
  }
 ],
 "metadata": {
  "kernelspec": {
   "display_name": "Python 3 (ipykernel)",
   "language": "python",
   "name": "python3"
  },
  "language_info": {
   "codemirror_mode": {
    "name": "ipython",
    "version": 3
   },
   "file_extension": ".py",
   "mimetype": "text/x-python",
   "name": "python",
   "nbconvert_exporter": "python",
   "pygments_lexer": "ipython3",
   "version": "3.9.7"
  }
 },
 "nbformat": 4,
 "nbformat_minor": 5
}
